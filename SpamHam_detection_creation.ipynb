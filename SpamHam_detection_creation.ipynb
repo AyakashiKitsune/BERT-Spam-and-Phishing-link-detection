{
  "cells": [
    {
      "cell_type": "code",
      "execution_count": 1,
      "id": "xNTf9qDfI_kE",
      "metadata": {
        "colab": {
          "base_uri": "https://localhost:8080/"
        },
        "id": "xNTf9qDfI_kE",
        "outputId": "e3463a8d-1ec6-4b94-d66e-da5f66b709a9"
      },
      "outputs": [
        {
          "name": "stdout",
          "output_type": "stream",
          "text": [
            "Mounted at /content/drive\n"
          ]
        }
      ],
      "source": [
        "from google.colab import drive\n",
        "drive.mount('/content/drive')"
      ]
    },
    {
      "cell_type": "code",
      "execution_count": 2,
      "id": "tgaCvoPyFoQV",
      "metadata": {
        "colab": {
          "base_uri": "https://localhost:8080/"
        },
        "id": "tgaCvoPyFoQV",
        "outputId": "916a86a1-14b4-4451-d153-8c874c8498ee"
      },
      "outputs": [
        {
          "name": "stdout",
          "output_type": "stream",
          "text": [
            "Requirement already satisfied: numpy in /usr/local/lib/python3.10/dist-packages (1.23.5)\n",
            "Requirement already satisfied: pandas in /usr/local/lib/python3.10/dist-packages (1.5.3)\n",
            "Requirement already satisfied: python-dateutil>=2.8.1 in /usr/local/lib/python3.10/dist-packages (from pandas) (2.8.2)\n",
            "Requirement already satisfied: pytz>=2020.1 in /usr/local/lib/python3.10/dist-packages (from pandas) (2023.4)\n",
            "Requirement already satisfied: numpy>=1.21.0 in /usr/local/lib/python3.10/dist-packages (from pandas) (1.23.5)\n",
            "Requirement already satisfied: six>=1.5 in /usr/local/lib/python3.10/dist-packages (from python-dateutil>=2.8.1->pandas) (1.16.0)\n",
            "Requirement already satisfied: tensorflow in /usr/local/lib/python3.10/dist-packages (2.15.0)\n",
            "Requirement already satisfied: absl-py>=1.0.0 in /usr/local/lib/python3.10/dist-packages (from tensorflow) (1.4.0)\n",
            "Requirement already satisfied: astunparse>=1.6.0 in /usr/local/lib/python3.10/dist-packages (from tensorflow) (1.6.3)\n",
            "Requirement already satisfied: flatbuffers>=23.5.26 in /usr/local/lib/python3.10/dist-packages (from tensorflow) (23.5.26)\n",
            "Requirement already satisfied: gast!=0.5.0,!=0.5.1,!=0.5.2,>=0.2.1 in /usr/local/lib/python3.10/dist-packages (from tensorflow) (0.5.4)\n",
            "Requirement already satisfied: google-pasta>=0.1.1 in /usr/local/lib/python3.10/dist-packages (from tensorflow) (0.2.0)\n",
            "Requirement already satisfied: h5py>=2.9.0 in /usr/local/lib/python3.10/dist-packages (from tensorflow) (3.9.0)\n",
            "Requirement already satisfied: libclang>=13.0.0 in /usr/local/lib/python3.10/dist-packages (from tensorflow) (16.0.6)\n",
            "Requirement already satisfied: ml-dtypes~=0.2.0 in /usr/local/lib/python3.10/dist-packages (from tensorflow) (0.2.0)\n",
            "Requirement already satisfied: numpy<2.0.0,>=1.23.5 in /usr/local/lib/python3.10/dist-packages (from tensorflow) (1.23.5)\n",
            "Requirement already satisfied: opt-einsum>=2.3.2 in /usr/local/lib/python3.10/dist-packages (from tensorflow) (3.3.0)\n",
            "Requirement already satisfied: packaging in /usr/local/lib/python3.10/dist-packages (from tensorflow) (23.2)\n",
            "Requirement already satisfied: protobuf!=4.21.0,!=4.21.1,!=4.21.2,!=4.21.3,!=4.21.4,!=4.21.5,<5.0.0dev,>=3.20.3 in /usr/local/lib/python3.10/dist-packages (from tensorflow) (3.20.3)\n",
            "Requirement already satisfied: setuptools in /usr/local/lib/python3.10/dist-packages (from tensorflow) (67.7.2)\n",
            "Requirement already satisfied: six>=1.12.0 in /usr/local/lib/python3.10/dist-packages (from tensorflow) (1.16.0)\n",
            "Requirement already satisfied: termcolor>=1.1.0 in /usr/local/lib/python3.10/dist-packages (from tensorflow) (2.4.0)\n",
            "Requirement already satisfied: typing-extensions>=3.6.6 in /usr/local/lib/python3.10/dist-packages (from tensorflow) (4.9.0)\n",
            "Requirement already satisfied: wrapt<1.15,>=1.11.0 in /usr/local/lib/python3.10/dist-packages (from tensorflow) (1.14.1)\n",
            "Requirement already satisfied: tensorflow-io-gcs-filesystem>=0.23.1 in /usr/local/lib/python3.10/dist-packages (from tensorflow) (0.35.0)\n",
            "Requirement already satisfied: grpcio<2.0,>=1.24.3 in /usr/local/lib/python3.10/dist-packages (from tensorflow) (1.60.1)\n",
            "Requirement already satisfied: tensorboard<2.16,>=2.15 in /usr/local/lib/python3.10/dist-packages (from tensorflow) (2.15.1)\n",
            "Requirement already satisfied: tensorflow-estimator<2.16,>=2.15.0 in /usr/local/lib/python3.10/dist-packages (from tensorflow) (2.15.0)\n",
            "Requirement already satisfied: keras<2.16,>=2.15.0 in /usr/local/lib/python3.10/dist-packages (from tensorflow) (2.15.0)\n",
            "Requirement already satisfied: wheel<1.0,>=0.23.0 in /usr/local/lib/python3.10/dist-packages (from astunparse>=1.6.0->tensorflow) (0.42.0)\n",
            "Requirement already satisfied: google-auth<3,>=1.6.3 in /usr/local/lib/python3.10/dist-packages (from tensorboard<2.16,>=2.15->tensorflow) (2.17.3)\n",
            "Requirement already satisfied: google-auth-oauthlib<2,>=0.5 in /usr/local/lib/python3.10/dist-packages (from tensorboard<2.16,>=2.15->tensorflow) (1.2.0)\n",
            "Requirement already satisfied: markdown>=2.6.8 in /usr/local/lib/python3.10/dist-packages (from tensorboard<2.16,>=2.15->tensorflow) (3.5.2)\n",
            "Requirement already satisfied: requests<3,>=2.21.0 in /usr/local/lib/python3.10/dist-packages (from tensorboard<2.16,>=2.15->tensorflow) (2.31.0)\n",
            "Requirement already satisfied: tensorboard-data-server<0.8.0,>=0.7.0 in /usr/local/lib/python3.10/dist-packages (from tensorboard<2.16,>=2.15->tensorflow) (0.7.2)\n",
            "Requirement already satisfied: werkzeug>=1.0.1 in /usr/local/lib/python3.10/dist-packages (from tensorboard<2.16,>=2.15->tensorflow) (3.0.1)\n",
            "Requirement already satisfied: cachetools<6.0,>=2.0.0 in /usr/local/lib/python3.10/dist-packages (from google-auth<3,>=1.6.3->tensorboard<2.16,>=2.15->tensorflow) (5.3.2)\n",
            "Requirement already satisfied: pyasn1-modules>=0.2.1 in /usr/local/lib/python3.10/dist-packages (from google-auth<3,>=1.6.3->tensorboard<2.16,>=2.15->tensorflow) (0.3.0)\n",
            "Requirement already satisfied: rsa<5,>=3.1.4 in /usr/local/lib/python3.10/dist-packages (from google-auth<3,>=1.6.3->tensorboard<2.16,>=2.15->tensorflow) (4.9)\n",
            "Requirement already satisfied: requests-oauthlib>=0.7.0 in /usr/local/lib/python3.10/dist-packages (from google-auth-oauthlib<2,>=0.5->tensorboard<2.16,>=2.15->tensorflow) (1.3.1)\n",
            "Requirement already satisfied: charset-normalizer<4,>=2 in /usr/local/lib/python3.10/dist-packages (from requests<3,>=2.21.0->tensorboard<2.16,>=2.15->tensorflow) (3.3.2)\n",
            "Requirement already satisfied: idna<4,>=2.5 in /usr/local/lib/python3.10/dist-packages (from requests<3,>=2.21.0->tensorboard<2.16,>=2.15->tensorflow) (3.6)\n",
            "Requirement already satisfied: urllib3<3,>=1.21.1 in /usr/local/lib/python3.10/dist-packages (from requests<3,>=2.21.0->tensorboard<2.16,>=2.15->tensorflow) (2.0.7)\n",
            "Requirement already satisfied: certifi>=2017.4.17 in /usr/local/lib/python3.10/dist-packages (from requests<3,>=2.21.0->tensorboard<2.16,>=2.15->tensorflow) (2024.2.2)\n",
            "Requirement already satisfied: MarkupSafe>=2.1.1 in /usr/local/lib/python3.10/dist-packages (from werkzeug>=1.0.1->tensorboard<2.16,>=2.15->tensorflow) (2.1.5)\n",
            "Requirement already satisfied: pyasn1<0.6.0,>=0.4.6 in /usr/local/lib/python3.10/dist-packages (from pyasn1-modules>=0.2.1->google-auth<3,>=1.6.3->tensorboard<2.16,>=2.15->tensorflow) (0.5.1)\n",
            "Requirement already satisfied: oauthlib>=3.0.0 in /usr/local/lib/python3.10/dist-packages (from requests-oauthlib>=0.7.0->google-auth-oauthlib<2,>=0.5->tensorboard<2.16,>=2.15->tensorflow) (3.2.2)\n",
            "Collecting tensorflow_text\n",
            "  Downloading tensorflow_text-2.15.0-cp310-cp310-manylinux_2_17_x86_64.manylinux2014_x86_64.whl (5.2 MB)\n",
            "\u001b[2K     \u001b[90m━━━━━━━━━━━━━━━━━━━━━━━━━━━━━━━━━━━━━━━━\u001b[0m \u001b[32m5.2/5.2 MB\u001b[0m \u001b[31m21.7 MB/s\u001b[0m eta \u001b[36m0:00:00\u001b[0m\n",
            "\u001b[?25hRequirement already satisfied: tensorflow-hub>=0.13.0 in /usr/local/lib/python3.10/dist-packages (from tensorflow_text) (0.16.1)\n",
            "Requirement already satisfied: tensorflow<2.16,>=2.15.0 in /usr/local/lib/python3.10/dist-packages (from tensorflow_text) (2.15.0)\n",
            "Requirement already satisfied: absl-py>=1.0.0 in /usr/local/lib/python3.10/dist-packages (from tensorflow<2.16,>=2.15.0->tensorflow_text) (1.4.0)\n",
            "Requirement already satisfied: astunparse>=1.6.0 in /usr/local/lib/python3.10/dist-packages (from tensorflow<2.16,>=2.15.0->tensorflow_text) (1.6.3)\n",
            "Requirement already satisfied: flatbuffers>=23.5.26 in /usr/local/lib/python3.10/dist-packages (from tensorflow<2.16,>=2.15.0->tensorflow_text) (23.5.26)\n",
            "Requirement already satisfied: gast!=0.5.0,!=0.5.1,!=0.5.2,>=0.2.1 in /usr/local/lib/python3.10/dist-packages (from tensorflow<2.16,>=2.15.0->tensorflow_text) (0.5.4)\n",
            "Requirement already satisfied: google-pasta>=0.1.1 in /usr/local/lib/python3.10/dist-packages (from tensorflow<2.16,>=2.15.0->tensorflow_text) (0.2.0)\n",
            "Requirement already satisfied: h5py>=2.9.0 in /usr/local/lib/python3.10/dist-packages (from tensorflow<2.16,>=2.15.0->tensorflow_text) (3.9.0)\n",
            "Requirement already satisfied: libclang>=13.0.0 in /usr/local/lib/python3.10/dist-packages (from tensorflow<2.16,>=2.15.0->tensorflow_text) (16.0.6)\n",
            "Requirement already satisfied: ml-dtypes~=0.2.0 in /usr/local/lib/python3.10/dist-packages (from tensorflow<2.16,>=2.15.0->tensorflow_text) (0.2.0)\n",
            "Requirement already satisfied: numpy<2.0.0,>=1.23.5 in /usr/local/lib/python3.10/dist-packages (from tensorflow<2.16,>=2.15.0->tensorflow_text) (1.23.5)\n",
            "Requirement already satisfied: opt-einsum>=2.3.2 in /usr/local/lib/python3.10/dist-packages (from tensorflow<2.16,>=2.15.0->tensorflow_text) (3.3.0)\n",
            "Requirement already satisfied: packaging in /usr/local/lib/python3.10/dist-packages (from tensorflow<2.16,>=2.15.0->tensorflow_text) (23.2)\n",
            "Requirement already satisfied: protobuf!=4.21.0,!=4.21.1,!=4.21.2,!=4.21.3,!=4.21.4,!=4.21.5,<5.0.0dev,>=3.20.3 in /usr/local/lib/python3.10/dist-packages (from tensorflow<2.16,>=2.15.0->tensorflow_text) (3.20.3)\n",
            "Requirement already satisfied: setuptools in /usr/local/lib/python3.10/dist-packages (from tensorflow<2.16,>=2.15.0->tensorflow_text) (67.7.2)\n",
            "Requirement already satisfied: six>=1.12.0 in /usr/local/lib/python3.10/dist-packages (from tensorflow<2.16,>=2.15.0->tensorflow_text) (1.16.0)\n",
            "Requirement already satisfied: termcolor>=1.1.0 in /usr/local/lib/python3.10/dist-packages (from tensorflow<2.16,>=2.15.0->tensorflow_text) (2.4.0)\n",
            "Requirement already satisfied: typing-extensions>=3.6.6 in /usr/local/lib/python3.10/dist-packages (from tensorflow<2.16,>=2.15.0->tensorflow_text) (4.9.0)\n",
            "Requirement already satisfied: wrapt<1.15,>=1.11.0 in /usr/local/lib/python3.10/dist-packages (from tensorflow<2.16,>=2.15.0->tensorflow_text) (1.14.1)\n",
            "Requirement already satisfied: tensorflow-io-gcs-filesystem>=0.23.1 in /usr/local/lib/python3.10/dist-packages (from tensorflow<2.16,>=2.15.0->tensorflow_text) (0.35.0)\n",
            "Requirement already satisfied: grpcio<2.0,>=1.24.3 in /usr/local/lib/python3.10/dist-packages (from tensorflow<2.16,>=2.15.0->tensorflow_text) (1.60.1)\n",
            "Requirement already satisfied: tensorboard<2.16,>=2.15 in /usr/local/lib/python3.10/dist-packages (from tensorflow<2.16,>=2.15.0->tensorflow_text) (2.15.1)\n",
            "Requirement already satisfied: tensorflow-estimator<2.16,>=2.15.0 in /usr/local/lib/python3.10/dist-packages (from tensorflow<2.16,>=2.15.0->tensorflow_text) (2.15.0)\n",
            "Requirement already satisfied: keras<2.16,>=2.15.0 in /usr/local/lib/python3.10/dist-packages (from tensorflow<2.16,>=2.15.0->tensorflow_text) (2.15.0)\n",
            "Requirement already satisfied: tf-keras>=2.14.1 in /usr/local/lib/python3.10/dist-packages (from tensorflow-hub>=0.13.0->tensorflow_text) (2.15.0)\n",
            "Requirement already satisfied: wheel<1.0,>=0.23.0 in /usr/local/lib/python3.10/dist-packages (from astunparse>=1.6.0->tensorflow<2.16,>=2.15.0->tensorflow_text) (0.42.0)\n",
            "Requirement already satisfied: google-auth<3,>=1.6.3 in /usr/local/lib/python3.10/dist-packages (from tensorboard<2.16,>=2.15->tensorflow<2.16,>=2.15.0->tensorflow_text) (2.17.3)\n",
            "Requirement already satisfied: google-auth-oauthlib<2,>=0.5 in /usr/local/lib/python3.10/dist-packages (from tensorboard<2.16,>=2.15->tensorflow<2.16,>=2.15.0->tensorflow_text) (1.2.0)\n",
            "Requirement already satisfied: markdown>=2.6.8 in /usr/local/lib/python3.10/dist-packages (from tensorboard<2.16,>=2.15->tensorflow<2.16,>=2.15.0->tensorflow_text) (3.5.2)\n",
            "Requirement already satisfied: requests<3,>=2.21.0 in /usr/local/lib/python3.10/dist-packages (from tensorboard<2.16,>=2.15->tensorflow<2.16,>=2.15.0->tensorflow_text) (2.31.0)\n",
            "Requirement already satisfied: tensorboard-data-server<0.8.0,>=0.7.0 in /usr/local/lib/python3.10/dist-packages (from tensorboard<2.16,>=2.15->tensorflow<2.16,>=2.15.0->tensorflow_text) (0.7.2)\n",
            "Requirement already satisfied: werkzeug>=1.0.1 in /usr/local/lib/python3.10/dist-packages (from tensorboard<2.16,>=2.15->tensorflow<2.16,>=2.15.0->tensorflow_text) (3.0.1)\n",
            "Requirement already satisfied: cachetools<6.0,>=2.0.0 in /usr/local/lib/python3.10/dist-packages (from google-auth<3,>=1.6.3->tensorboard<2.16,>=2.15->tensorflow<2.16,>=2.15.0->tensorflow_text) (5.3.2)\n",
            "Requirement already satisfied: pyasn1-modules>=0.2.1 in /usr/local/lib/python3.10/dist-packages (from google-auth<3,>=1.6.3->tensorboard<2.16,>=2.15->tensorflow<2.16,>=2.15.0->tensorflow_text) (0.3.0)\n",
            "Requirement already satisfied: rsa<5,>=3.1.4 in /usr/local/lib/python3.10/dist-packages (from google-auth<3,>=1.6.3->tensorboard<2.16,>=2.15->tensorflow<2.16,>=2.15.0->tensorflow_text) (4.9)\n",
            "Requirement already satisfied: requests-oauthlib>=0.7.0 in /usr/local/lib/python3.10/dist-packages (from google-auth-oauthlib<2,>=0.5->tensorboard<2.16,>=2.15->tensorflow<2.16,>=2.15.0->tensorflow_text) (1.3.1)\n",
            "Requirement already satisfied: charset-normalizer<4,>=2 in /usr/local/lib/python3.10/dist-packages (from requests<3,>=2.21.0->tensorboard<2.16,>=2.15->tensorflow<2.16,>=2.15.0->tensorflow_text) (3.3.2)\n",
            "Requirement already satisfied: idna<4,>=2.5 in /usr/local/lib/python3.10/dist-packages (from requests<3,>=2.21.0->tensorboard<2.16,>=2.15->tensorflow<2.16,>=2.15.0->tensorflow_text) (3.6)\n",
            "Requirement already satisfied: urllib3<3,>=1.21.1 in /usr/local/lib/python3.10/dist-packages (from requests<3,>=2.21.0->tensorboard<2.16,>=2.15->tensorflow<2.16,>=2.15.0->tensorflow_text) (2.0.7)\n",
            "Requirement already satisfied: certifi>=2017.4.17 in /usr/local/lib/python3.10/dist-packages (from requests<3,>=2.21.0->tensorboard<2.16,>=2.15->tensorflow<2.16,>=2.15.0->tensorflow_text) (2024.2.2)\n",
            "Requirement already satisfied: MarkupSafe>=2.1.1 in /usr/local/lib/python3.10/dist-packages (from werkzeug>=1.0.1->tensorboard<2.16,>=2.15->tensorflow<2.16,>=2.15.0->tensorflow_text) (2.1.5)\n",
            "Requirement already satisfied: pyasn1<0.6.0,>=0.4.6 in /usr/local/lib/python3.10/dist-packages (from pyasn1-modules>=0.2.1->google-auth<3,>=1.6.3->tensorboard<2.16,>=2.15->tensorflow<2.16,>=2.15.0->tensorflow_text) (0.5.1)\n",
            "Requirement already satisfied: oauthlib>=3.0.0 in /usr/local/lib/python3.10/dist-packages (from requests-oauthlib>=0.7.0->google-auth-oauthlib<2,>=0.5->tensorboard<2.16,>=2.15->tensorflow<2.16,>=2.15.0->tensorflow_text) (3.2.2)\n",
            "Installing collected packages: tensorflow_text\n",
            "Successfully installed tensorflow_text-2.15.0\n",
            "Requirement already satisfied: tensorflow_hub in /usr/local/lib/python3.10/dist-packages (0.16.1)\n",
            "Requirement already satisfied: numpy>=1.12.0 in /usr/local/lib/python3.10/dist-packages (from tensorflow_hub) (1.23.5)\n",
            "Requirement already satisfied: protobuf>=3.19.6 in /usr/local/lib/python3.10/dist-packages (from tensorflow_hub) (3.20.3)\n",
            "Requirement already satisfied: tf-keras>=2.14.1 in /usr/local/lib/python3.10/dist-packages (from tensorflow_hub) (2.15.0)\n"
          ]
        }
      ],
      "source": [
        "!pip install numpy\n",
        "!pip install pandas\n",
        "!pip install tensorflow\n",
        "!pip install tensorflow_text\n",
        "!pip install tensorflow_hub"
      ]
    },
    {
      "cell_type": "code",
      "execution_count": 1,
      "id": "a7bb1a24",
      "metadata": {
        "_cell_guid": "b1076dfc-b9ad-4769-8c92-a6c4dae69d19",
        "_uuid": "8f2839f25d086af736a60e9eeb907d3b93b6e0e5",
        "execution": {
          "iopub.execute_input": "2024-01-28T18:12:26.888672Z",
          "iopub.status.busy": "2024-01-28T18:12:26.888375Z",
          "iopub.status.idle": "2024-01-28T18:12:27.731178Z",
          "shell.execute_reply": "2024-01-28T18:12:27.730356Z"
        },
        "id": "a7bb1a24",
        "papermill": {
          "duration": 0.853367,
          "end_time": "2024-01-28T18:12:27.733653",
          "exception": false,
          "start_time": "2024-01-28T18:12:26.880286",
          "status": "completed"
        },
        "tags": []
      },
      "outputs": [
        {
          "name": "stderr",
          "output_type": "stream",
          "text": [
            "/tmp/ipykernel_6578/10159931.py:6: DeprecationWarning: \n",
            "Pyarrow will become a required dependency of pandas in the next major release of pandas (pandas 3.0),\n",
            "(to allow more performant data types, such as the Arrow string type, and better interoperability with other libraries)\n",
            "but was not found to be installed on your system.\n",
            "If this would cause problems for you,\n",
            "please provide us feedback at https://github.com/pandas-dev/pandas/issues/54466\n",
            "        \n",
            "  import pandas as pd # data processing, CSV file I/O (e.g. pd.read_csv)\n"
          ]
        }
      ],
      "source": [
        "# This Python 3 environment comes with many helpful analytics libraries installed\n",
        "# It is defined by the kaggle/python Docker image: https://github.com/kaggle/docker-python\n",
        "# For example, here's several helpful packages to load\n",
        "\n",
        "import numpy as np # linear algebra\n",
        "import pandas as pd # data processing, CSV file I/O (e.g. pd.read_csv)\n",
        "\n",
        "# Input data files are available in the read-only \"../input/\" directory\n",
        "# For example, running this (by clicking run or pressing Shift+Enter) will list all files under the input directory\n",
        "\n",
        "\n",
        "# You can write up to 20GB to the current directory (/kaggle/working/) that gets preserved as output when you create a version using \"Save & Run All\"\n",
        "# You can also write temporary files to /kaggle/temp/, but they won't be saved outside of the current session"
      ]
    },
    {
      "cell_type": "code",
      "execution_count": 2,
      "id": "a0bf9541",
      "metadata": {
        "execution": {
          "iopub.execute_input": "2024-01-28T18:12:27.748579Z",
          "iopub.status.busy": "2024-01-28T18:12:27.748191Z",
          "iopub.status.idle": "2024-01-28T18:12:54.178326Z",
          "shell.execute_reply": "2024-01-28T18:12:54.177339Z"
        },
        "id": "a0bf9541",
        "papermill": {
          "duration": 26.44004,
          "end_time": "2024-01-28T18:12:54.180836",
          "exception": false,
          "start_time": "2024-01-28T18:12:27.740796",
          "status": "completed"
        },
        "tags": []
      },
      "outputs": [
        {
          "name": "stderr",
          "output_type": "stream",
          "text": [
            "2024-02-12 11:08:50.390950: I external/local_tsl/tsl/cuda/cudart_stub.cc:31] Could not find cuda drivers on your machine, GPU will not be used.\n",
            "2024-02-12 11:08:50.429745: E external/local_xla/xla/stream_executor/cuda/cuda_dnn.cc:9261] Unable to register cuDNN factory: Attempting to register factory for plugin cuDNN when one has already been registered\n",
            "2024-02-12 11:08:50.429779: E external/local_xla/xla/stream_executor/cuda/cuda_fft.cc:607] Unable to register cuFFT factory: Attempting to register factory for plugin cuFFT when one has already been registered\n",
            "2024-02-12 11:08:50.430680: E external/local_xla/xla/stream_executor/cuda/cuda_blas.cc:1515] Unable to register cuBLAS factory: Attempting to register factory for plugin cuBLAS when one has already been registered\n",
            "2024-02-12 11:08:50.436317: I external/local_tsl/tsl/cuda/cudart_stub.cc:31] Could not find cuda drivers on your machine, GPU will not be used.\n",
            "2024-02-12 11:08:50.437170: I tensorflow/core/platform/cpu_feature_guard.cc:182] This TensorFlow binary is optimized to use available CPU instructions in performance-critical operations.\n",
            "To enable the following instructions: AVX2 FMA, in other operations, rebuild TensorFlow with the appropriate compiler flags.\n",
            "2024-02-12 11:08:51.396471: W tensorflow/compiler/tf2tensorrt/utils/py_utils.cc:38] TF-TRT Warning: Could not find TensorRT\n"
          ]
        }
      ],
      "source": [
        "import tensorflow_text as text\n",
        "import tensorflow as tf\n",
        "import tensorflow_hub as hub"
      ]
    },
    {
      "cell_type": "code",
      "execution_count": 4,
      "id": "1a25e695",
      "metadata": {
        "colab": {
          "base_uri": "https://localhost:8080/",
          "height": 206
        },
        "execution": {
          "iopub.execute_input": "2024-01-28T18:12:54.197461Z",
          "iopub.status.busy": "2024-01-28T18:12:54.196923Z",
          "iopub.status.idle": "2024-01-28T18:12:54.253176Z",
          "shell.execute_reply": "2024-01-28T18:12:54.252352Z"
        },
        "id": "1a25e695",
        "outputId": "cb43f770-e21f-4069-835c-61bd9dc9d90f",
        "papermill": {
          "duration": 0.066753,
          "end_time": "2024-01-28T18:12:54.255371",
          "exception": false,
          "start_time": "2024-01-28T18:12:54.188618",
          "status": "completed"
        },
        "tags": []
      },
      "outputs": [
        {
          "name": "stderr",
          "output_type": "stream",
          "text": [
            "/tmp/ipykernel_6578/173257867.py:1: FutureWarning: Downcasting behavior in `replace` is deprecated and will be removed in a future version. To retain the old behavior, explicitly call `result.infer_objects(copy=False)`. To opt-in to the future behavior, set `pd.set_option('future.no_silent_downcasting', True)`\n",
            "  df = pd.read_csv('datasets/enron_spam_data.csv').drop(columns=[\"Subject\",\"Date\",'Message ID']).replace('spam',1).replace('ham',0).dropna().reset_index(drop=True)\n"
          ]
        },
        {
          "data": {
            "text/html": [
              "<div>\n",
              "<style scoped>\n",
              "    .dataframe tbody tr th:only-of-type {\n",
              "        vertical-align: middle;\n",
              "    }\n",
              "\n",
              "    .dataframe tbody tr th {\n",
              "        vertical-align: top;\n",
              "    }\n",
              "\n",
              "    .dataframe thead th {\n",
              "        text-align: right;\n",
              "    }\n",
              "</style>\n",
              "<table border=\"1\" class=\"dataframe\">\n",
              "  <thead>\n",
              "    <tr style=\"text-align: right;\">\n",
              "      <th></th>\n",
              "      <th>Message</th>\n",
              "      <th>Spam/Ham</th>\n",
              "    </tr>\n",
              "  </thead>\n",
              "  <tbody>\n",
              "    <tr>\n",
              "      <th>0</th>\n",
              "      <td>gary , production from the high island larger ...</td>\n",
              "      <td>0</td>\n",
              "    </tr>\n",
              "    <tr>\n",
              "      <th>1</th>\n",
              "      <td>- calpine daily gas nomination 1 . doc</td>\n",
              "      <td>0</td>\n",
              "    </tr>\n",
              "    <tr>\n",
              "      <th>2</th>\n",
              "      <td>fyi - see note below - already done .\\nstella\\...</td>\n",
              "      <td>0</td>\n",
              "    </tr>\n",
              "    <tr>\n",
              "      <th>3</th>\n",
              "      <td>fyi .\\n- - - - - - - - - - - - - - - - - - - -...</td>\n",
              "      <td>0</td>\n",
              "    </tr>\n",
              "    <tr>\n",
              "      <th>4</th>\n",
              "      <td>jackie ,\\nsince the inlet to 3 river plant is ...</td>\n",
              "      <td>0</td>\n",
              "    </tr>\n",
              "  </tbody>\n",
              "</table>\n",
              "</div>"
            ],
            "text/plain": [
              "                                             Message  Spam/Ham\n",
              "0  gary , production from the high island larger ...         0\n",
              "1             - calpine daily gas nomination 1 . doc         0\n",
              "2  fyi - see note below - already done .\\nstella\\...         0\n",
              "3  fyi .\\n- - - - - - - - - - - - - - - - - - - -...         0\n",
              "4  jackie ,\\nsince the inlet to 3 river plant is ...         0"
            ]
          },
          "execution_count": 4,
          "metadata": {},
          "output_type": "execute_result"
        }
      ],
      "source": [
        "df = pd.read_csv('datasets/enron_spam_data.csv').drop(columns=[\"Subject\",\"Date\",'Message ID']).replace('spam',1).replace('ham',0).dropna().reset_index(drop=True)\n",
        "df.head()"
      ]
    },
    {
      "cell_type": "code",
      "execution_count": 14,
      "id": "1e2ba59d",
      "metadata": {},
      "outputs": [
        {
          "data": {
            "text/plain": [
              "'introducing\\ndoctor - formulated\\nhgh\\nhuman growth hormone - also called hgh\\nis referred to in medical science as the master hormone . it is very plentiful\\nwhen we are young , but near the age of twenty - one our bodies begin to produce\\nless of it . by the time we are forty nearly everyone is deficient in hgh ,\\nand at eighty our production has normally diminished at least 90 - 95 % .\\nadvantages of hgh :\\n- increased muscle strength\\n- loss in body fat\\n- increased bone density\\n- lower blood pressure\\n- quickens wound healing\\n- reduces cellulite\\n- improved vision\\n- wrinkle disappearance\\n- increased skin thickness texture\\n- increased energy levels\\n- improved sleep and emotional stability\\n- improved memory and mental alertness\\n- increased sexual potency\\n- resistance to common illness\\n- strengthened heart muscle\\n- controlled cholesterol\\n- controlled mood swings\\n- new hair growth and color restore\\nread\\nmore at this website\\nunsubscribe\\n'"
            ]
          },
          "execution_count": 14,
          "metadata": {},
          "output_type": "execute_result"
        }
      ],
      "source": [
        "df[df['Spam/Ham'] == 1].reset_index(drop=True)['Message'].loc[0]"
      ]
    },
    {
      "cell_type": "code",
      "execution_count": 6,
      "id": "ba0c288d",
      "metadata": {
        "colab": {
          "base_uri": "https://localhost:8080/"
        },
        "execution": {
          "iopub.execute_input": "2024-01-28T18:12:54.272805Z",
          "iopub.status.busy": "2024-01-28T18:12:54.272516Z",
          "iopub.status.idle": "2024-01-28T18:12:54.278674Z",
          "shell.execute_reply": "2024-01-28T18:12:54.277843Z"
        },
        "id": "ba0c288d",
        "outputId": "877b3930-3a2b-4df5-8226-91715e4449a6",
        "papermill": {
          "duration": 0.016766,
          "end_time": "2024-01-28T18:12:54.280620",
          "exception": false,
          "start_time": "2024-01-28T18:12:54.263854",
          "status": "completed"
        },
        "tags": []
      },
      "outputs": [
        {
          "data": {
            "text/plain": [
              "Index(['message', 'spam'], dtype='object')"
            ]
          },
          "execution_count": 6,
          "metadata": {},
          "output_type": "execute_result"
        }
      ],
      "source": [
        "df.columns = ['message','spam']\n",
        "df.columns"
      ]
    },
    {
      "cell_type": "code",
      "execution_count": 7,
      "id": "55f8b2a4",
      "metadata": {
        "colab": {
          "base_uri": "https://localhost:8080/"
        },
        "execution": {
          "iopub.execute_input": "2024-01-28T18:12:54.336413Z",
          "iopub.status.busy": "2024-01-28T18:12:54.336137Z",
          "iopub.status.idle": "2024-01-28T18:12:54.349947Z",
          "shell.execute_reply": "2024-01-28T18:12:54.349144Z"
        },
        "id": "55f8b2a4",
        "outputId": "23db5f3d-63c1-4198-b178-b10a1723c243",
        "papermill": {
          "duration": 0.024059,
          "end_time": "2024-01-28T18:12:54.351759",
          "exception": false,
          "start_time": "2024-01-28T18:12:54.327700",
          "status": "completed"
        },
        "tags": []
      },
      "outputs": [
        {
          "data": {
            "text/plain": [
              "1    16852\n",
              "0    16493\n",
              "Name: spam, dtype: int64"
            ]
          },
          "execution_count": 7,
          "metadata": {},
          "output_type": "execute_result"
        }
      ],
      "source": [
        "df['spam'].value_counts()"
      ]
    },
    {
      "cell_type": "code",
      "execution_count": 8,
      "id": "7202a9cc",
      "metadata": {
        "colab": {
          "base_uri": "https://localhost:8080/"
        },
        "execution": {
          "iopub.execute_input": "2024-01-28T18:12:54.368638Z",
          "iopub.status.busy": "2024-01-28T18:12:54.368396Z",
          "iopub.status.idle": "2024-01-28T18:12:54.375131Z",
          "shell.execute_reply": "2024-01-28T18:12:54.374337Z"
        },
        "id": "7202a9cc",
        "outputId": "0d4765e6-3278-4525-c39f-a199a17c36e5",
        "papermill": {
          "duration": 0.017447,
          "end_time": "2024-01-28T18:12:54.377065",
          "exception": false,
          "start_time": "2024-01-28T18:12:54.359618",
          "status": "completed"
        },
        "tags": []
      },
      "outputs": [
        {
          "data": {
            "text/plain": [
              "message    0\n",
              "spam       0\n",
              "dtype: int64"
            ]
          },
          "execution_count": 8,
          "metadata": {},
          "output_type": "execute_result"
        }
      ],
      "source": [
        "df.isna().sum()"
      ]
    },
    {
      "cell_type": "code",
      "execution_count": 9,
      "id": "975f21ab",
      "metadata": {
        "colab": {
          "base_uri": "https://localhost:8080/"
        },
        "execution": {
          "iopub.execute_input": "2024-01-28T18:12:54.394418Z",
          "iopub.status.busy": "2024-01-28T18:12:54.393819Z",
          "iopub.status.idle": "2024-01-28T18:12:54.399326Z",
          "shell.execute_reply": "2024-01-28T18:12:54.398515Z"
        },
        "id": "975f21ab",
        "outputId": "aafe7c47-c522-4d98-bed5-d5fc59046d99",
        "papermill": {
          "duration": 0.016073,
          "end_time": "2024-01-28T18:12:54.401145",
          "exception": false,
          "start_time": "2024-01-28T18:12:54.385072",
          "status": "completed"
        },
        "tags": []
      },
      "outputs": [
        {
          "data": {
            "text/plain": [
              "33345"
            ]
          },
          "execution_count": 9,
          "metadata": {},
          "output_type": "execute_result"
        }
      ],
      "source": [
        "df['spam'].count()"
      ]
    },
    {
      "cell_type": "code",
      "execution_count": 10,
      "id": "adba077e",
      "metadata": {
        "colab": {
          "base_uri": "https://localhost:8080/"
        },
        "execution": {
          "iopub.execute_input": "2024-01-28T18:12:54.419028Z",
          "iopub.status.busy": "2024-01-28T18:12:54.418794Z",
          "iopub.status.idle": "2024-01-28T18:12:54.425613Z",
          "shell.execute_reply": "2024-01-28T18:12:54.424780Z"
        },
        "id": "adba077e",
        "outputId": "82690571-9de1-4597-c522-6ecae8c49c5a",
        "papermill": {
          "duration": 0.017412,
          "end_time": "2024-01-28T18:12:54.427449",
          "exception": false,
          "start_time": "2024-01-28T18:12:54.410037",
          "status": "completed"
        },
        "tags": []
      },
      "outputs": [
        {
          "data": {
            "text/plain": [
              "(16852, 2)"
            ]
          },
          "execution_count": 10,
          "metadata": {},
          "output_type": "execute_result"
        }
      ],
      "source": [
        "df_spam=df[df['spam']==1]\n",
        "df_spam.shape"
      ]
    },
    {
      "cell_type": "code",
      "execution_count": 11,
      "id": "216a8e52",
      "metadata": {
        "colab": {
          "base_uri": "https://localhost:8080/"
        },
        "execution": {
          "iopub.execute_input": "2024-01-28T18:12:54.445676Z",
          "iopub.status.busy": "2024-01-28T18:12:54.445416Z",
          "iopub.status.idle": "2024-01-28T18:12:54.451541Z",
          "shell.execute_reply": "2024-01-28T18:12:54.450777Z"
        },
        "id": "216a8e52",
        "outputId": "b4d82554-3b20-4bfd-a6a9-f242c3fb41df",
        "papermill": {
          "duration": 0.017511,
          "end_time": "2024-01-28T18:12:54.453367",
          "exception": false,
          "start_time": "2024-01-28T18:12:54.435856",
          "status": "completed"
        },
        "tags": []
      },
      "outputs": [
        {
          "data": {
            "text/plain": [
              "(16493, 2)"
            ]
          },
          "execution_count": 11,
          "metadata": {},
          "output_type": "execute_result"
        }
      ],
      "source": [
        "df_ham=df[df['spam']==0]\n",
        "df_ham.shape"
      ]
    },
    {
      "cell_type": "code",
      "execution_count": 12,
      "id": "11478182",
      "metadata": {
        "colab": {
          "base_uri": "https://localhost:8080/"
        },
        "execution": {
          "iopub.execute_input": "2024-01-28T18:12:54.498773Z",
          "iopub.status.busy": "2024-01-28T18:12:54.498511Z",
          "iopub.status.idle": "2024-01-28T18:12:54.504585Z",
          "shell.execute_reply": "2024-01-28T18:12:54.503743Z"
        },
        "id": "11478182",
        "outputId": "87c94cea-2b6a-4da7-8b45-67fa78ac5c76",
        "papermill": {
          "duration": 0.017615,
          "end_time": "2024-01-28T18:12:54.506440",
          "exception": false,
          "start_time": "2024-01-28T18:12:54.488825",
          "status": "completed"
        },
        "tags": []
      },
      "outputs": [
        {
          "data": {
            "text/plain": [
              "(33345, 2)"
            ]
          },
          "execution_count": 12,
          "metadata": {},
          "output_type": "execute_result"
        }
      ],
      "source": [
        "df=pd.concat([df_ham,df_spam])\n",
        "df.shape"
      ]
    },
    {
      "cell_type": "code",
      "execution_count": 13,
      "id": "37fd3656",
      "metadata": {
        "execution": {
          "iopub.execute_input": "2024-01-28T18:12:54.524611Z",
          "iopub.status.busy": "2024-01-28T18:12:54.524336Z",
          "iopub.status.idle": "2024-01-28T18:12:55.522267Z",
          "shell.execute_reply": "2024-01-28T18:12:55.521272Z"
        },
        "id": "37fd3656",
        "papermill": {
          "duration": 1.009486,
          "end_time": "2024-01-28T18:12:55.524626",
          "exception": false,
          "start_time": "2024-01-28T18:12:54.515140",
          "status": "completed"
        },
        "tags": []
      },
      "outputs": [],
      "source": [
        "from sklearn.model_selection import train_test_split\n",
        "X_train, X_test, y_train, y_test = train_test_split(df['message'], df['spam'], test_size=0.1, random_state=42)"
      ]
    },
    {
      "cell_type": "code",
      "execution_count": 14,
      "id": "ab5b71fa",
      "metadata": {
        "colab": {
          "base_uri": "https://localhost:8080/"
        },
        "execution": {
          "iopub.execute_input": "2024-01-28T18:12:55.544068Z",
          "iopub.status.busy": "2024-01-28T18:12:55.543515Z",
          "iopub.status.idle": "2024-01-28T18:12:55.548287Z",
          "shell.execute_reply": "2024-01-28T18:12:55.547472Z"
        },
        "id": "ab5b71fa",
        "outputId": "c38c5cf5-4fce-456e-f212-e1c41d695bbf",
        "papermill": {
          "duration": 0.016599,
          "end_time": "2024-01-28T18:12:55.550227",
          "exception": false,
          "start_time": "2024-01-28T18:12:55.533628",
          "status": "completed"
        },
        "tags": []
      },
      "outputs": [
        {
          "name": "stdout",
          "output_type": "stream",
          "text": [
            "(30010,) (3335,) (30010,) (3335,)\n"
          ]
        }
      ],
      "source": [
        "print(X_train.shape, X_test.shape, y_train.shape, y_test.shape )"
      ]
    },
    {
      "cell_type": "code",
      "execution_count": 15,
      "id": "391f4488",
      "metadata": {
        "execution": {
          "iopub.execute_input": "2024-01-28T18:12:55.568329Z",
          "iopub.status.busy": "2024-01-28T18:12:55.568060Z",
          "iopub.status.idle": "2024-01-28T18:13:15.526443Z",
          "shell.execute_reply": "2024-01-28T18:13:15.525616Z"
        },
        "id": "391f4488",
        "papermill": {
          "duration": 19.970015,
          "end_time": "2024-01-28T18:13:15.528842",
          "exception": false,
          "start_time": "2024-01-28T18:12:55.558827",
          "status": "completed"
        },
        "tags": []
      },
      "outputs": [],
      "source": [
        "text_input = tf.keras.layers.Input(shape=(), dtype=tf.string)\n",
        "preprocessor = hub.KerasLayer(\"bert_models/bert-preprocessor\")\n",
        "# preprocessor = hub.KerasLayer(\"https://kaggle.com/models/tensorflow/bert/frameworks/TensorFlow2/variations/en-uncased-preprocess/versions/3\")\n",
        "encoder_inputs = preprocessor(text_input)\n",
        "encoder = hub.KerasLayer(\"bert_models/bert-base\",trainable=False)\n",
        "# encoder = hub.KerasLayer(\"https://www.kaggle.com/models/tensorflow/bert/frameworks/TensorFlow2/variations/en-uncased-l-12-h-768-a-12/versions/4\",trainable=False)\n",
        "outputs = encoder(encoder_inputs)\n",
        "pooled_output = outputs[\"pooled_output\"]      # [batch_size, 768].\n",
        "sequence_output = outputs[\"sequence_output\"]  # [batch_size, seq_length, 768]."
      ]
    },
    {
      "cell_type": "code",
      "execution_count": 16,
      "id": "a68e733e",
      "metadata": {
        "execution": {
          "iopub.execute_input": "2024-01-28T18:13:15.552082Z",
          "iopub.status.busy": "2024-01-28T18:13:15.551757Z",
          "iopub.status.idle": "2024-01-28T18:13:15.652491Z",
          "shell.execute_reply": "2024-01-28T18:13:15.651744Z"
        },
        "id": "a68e733e",
        "papermill": {
          "duration": 0.113042,
          "end_time": "2024-01-28T18:13:15.654420",
          "exception": false,
          "start_time": "2024-01-28T18:13:15.541378",
          "status": "completed"
        },
        "tags": []
      },
      "outputs": [],
      "source": [
        "fii = tf.keras.layers.Dropout(0.2,name='dropout')(pooled_output)\n",
        "fii=tf.keras.layers.Dense(64,activation='relu',name='hidden')(fii)\n",
        "fii=tf.keras.layers.Dense(32,activation='relu',name='hiddenn')(fii)\n",
        "fii=tf.keras.layers.Dense(8,activation='relu',name='hiddennn')(fii)\n",
        "fii=tf.keras.layers.Dense(1,activation='sigmoid',name='output')(fii)"
      ]
    },
    {
      "cell_type": "code",
      "execution_count": 17,
      "id": "c1ae4102",
      "metadata": {
        "execution": {
          "iopub.execute_input": "2024-01-28T18:13:15.673521Z",
          "iopub.status.busy": "2024-01-28T18:13:15.673225Z",
          "iopub.status.idle": "2024-01-28T18:13:15.681175Z",
          "shell.execute_reply": "2024-01-28T18:13:15.680524Z"
        },
        "id": "c1ae4102",
        "papermill": {
          "duration": 0.019434,
          "end_time": "2024-01-28T18:13:15.682949",
          "exception": false,
          "start_time": "2024-01-28T18:13:15.663515",
          "status": "completed"
        },
        "tags": []
      },
      "outputs": [],
      "source": [
        "model=tf.keras.Model(inputs=[text_input],outputs=[fii])"
      ]
    },
    {
      "cell_type": "code",
      "execution_count": 21,
      "id": "cbc707bc",
      "metadata": {
        "_kg_hide-output": true,
        "colab": {
          "base_uri": "https://localhost:8080/"
        },
        "execution": {
          "iopub.execute_input": "2024-01-28T18:13:15.701682Z",
          "iopub.status.busy": "2024-01-28T18:13:15.701421Z",
          "iopub.status.idle": "2024-01-28T18:17:51.393334Z",
          "shell.execute_reply": "2024-01-28T18:17:51.392302Z"
        },
        "id": "cbc707bc",
        "outputId": "d6ca561d-d618-4f35-e728-c4e610f6e705",
        "papermill": {
          "duration": 275.703636,
          "end_time": "2024-01-28T18:17:51.395433",
          "exception": false,
          "start_time": "2024-01-28T18:13:15.691797",
          "status": "completed"
        },
        "scrolled": true,
        "tags": []
      },
      "outputs": [
        {
          "name": "stdout",
          "output_type": "stream",
          "text": [
            "Epoch 1/10\n",
            "845/845 [==============================] - 328s 382ms/step - loss: 0.2950 - binary_crossentropy: 0.2950 - accuracy: 0.8746 - val_loss: 0.2303 - val_binary_crossentropy: 0.2303 - val_accuracy: 0.9037\n",
            "Epoch 2/10\n",
            "845/845 [==============================] - 324s 383ms/step - loss: 0.2849 - binary_crossentropy: 0.2849 - accuracy: 0.8783 - val_loss: 0.2735 - val_binary_crossentropy: 0.2735 - val_accuracy: 0.8894\n",
            "Epoch 3/10\n",
            "845/845 [==============================] - 333s 394ms/step - loss: 0.2792 - binary_crossentropy: 0.2792 - accuracy: 0.8823 - val_loss: 0.1917 - val_binary_crossentropy: 0.1917 - val_accuracy: 0.9267\n",
            "Epoch 4/10\n",
            "845/845 [==============================] - 332s 393ms/step - loss: 0.2653 - binary_crossentropy: 0.2653 - accuracy: 0.8876 - val_loss: 0.2209 - val_binary_crossentropy: 0.2209 - val_accuracy: 0.9100\n",
            "Epoch 5/10\n",
            "845/845 [==============================] - 332s 393ms/step - loss: 0.2611 - binary_crossentropy: 0.2611 - accuracy: 0.8903 - val_loss: 0.2493 - val_binary_crossentropy: 0.2493 - val_accuracy: 0.9017\n",
            "Epoch 6/10\n",
            "845/845 [==============================] - 323s 382ms/step - loss: 0.2601 - binary_crossentropy: 0.2601 - accuracy: 0.8893 - val_loss: 0.2329 - val_binary_crossentropy: 0.2329 - val_accuracy: 0.9010\n",
            "Epoch 7/10\n",
            "845/845 [==============================] - 334s 395ms/step - loss: 0.2567 - binary_crossentropy: 0.2567 - accuracy: 0.8930 - val_loss: 0.2079 - val_binary_crossentropy: 0.2079 - val_accuracy: 0.9247\n",
            "Epoch 8/10\n",
            "845/845 [==============================] - 324s 383ms/step - loss: 0.2435 - binary_crossentropy: 0.2435 - accuracy: 0.8967 - val_loss: 0.1886 - val_binary_crossentropy: 0.1886 - val_accuracy: 0.9284\n",
            "Epoch 9/10\n",
            "845/845 [==============================] - 332s 393ms/step - loss: 0.2452 - binary_crossentropy: 0.2452 - accuracy: 0.8974 - val_loss: 0.1893 - val_binary_crossentropy: 0.1893 - val_accuracy: 0.9250\n",
            "Epoch 10/10\n",
            "845/845 [==============================] - 324s 383ms/step - loss: 0.2391 - binary_crossentropy: 0.2391 - accuracy: 0.9010 - val_loss: 0.1834 - val_binary_crossentropy: 0.1834 - val_accuracy: 0.9314\n"
          ]
        },
        {
          "data": {
            "text/plain": [
              "<keras.src.callbacks.History at 0x7e6a6efd1630>"
            ]
          },
          "execution_count": 21,
          "metadata": {},
          "output_type": "execute_result"
        }
      ],
      "source": [
        "# Compile the mode\n",
        "model.compile(optimizer='adam', loss='binary_crossentropy', metrics=['binary_crossentropy','accuracy'])\n",
        "# run with gpu\n",
        "model.fit(X_train, y_train, epochs=10, validation_split=0.1)\n"
      ]
    },
    {
      "cell_type": "code",
      "execution_count": 22,
      "id": "8a9a219e",
      "metadata": {
        "colab": {
          "base_uri": "https://localhost:8080/"
        },
        "execution": {
          "iopub.execute_input": "2024-01-28T18:17:51.539277Z",
          "iopub.status.busy": "2024-01-28T18:17:51.538971Z",
          "iopub.status.idle": "2024-01-28T18:17:53.860221Z",
          "shell.execute_reply": "2024-01-28T18:17:53.859366Z"
        },
        "id": "8a9a219e",
        "outputId": "09c898ad-863e-43d7-b614-3ff010fc90c6",
        "papermill": {
          "duration": 2.393989,
          "end_time": "2024-01-28T18:17:53.862450",
          "exception": false,
          "start_time": "2024-01-28T18:17:51.468461",
          "status": "completed"
        },
        "tags": []
      },
      "outputs": [
        {
          "name": "stdout",
          "output_type": "stream",
          "text": [
            "105/105 [==============================] - 41s 386ms/step\n"
          ]
        }
      ],
      "source": [
        "y_predict=model.predict(X_test)\n",
        "y_pred=np.where(y_predict>0.5,1,0)"
      ]
    },
    {
      "cell_type": "code",
      "execution_count": 39,
      "id": "X_25lm8Un1gB",
      "metadata": {
        "colab": {
          "base_uri": "https://localhost:8080/"
        },
        "id": "X_25lm8Un1gB",
        "outputId": "e76b9d1f-fd94-43e9-8995-58f56d5d15bd"
      },
      "outputs": [
        {
          "data": {
            "text/plain": [
              "('i am forwarding for your attention the resume of peter percell\\nwho has an extensive experience in modeling physical flows\\nof natural gas in pipeline systems . peter is looking currently for a job .\\ni met him last week at the meeting of the science and industry advance with mathematics\\nsociety at the university of houston .\\nthe application of recent developments in optimization theory\\nand numerical methods can help enron to improve further\\nefficiency of our pipeline system and reduce the consumption of compressor fuel .\\nplease , let me know if you interested in introducing peter to executives\\nin your organization . i shall be glad to make arrangements for an interview .\\nvince kaminski\\n- - - - - - - - - - - - - - - - - - - - - - forwarded by vince j kaminski / hou / ect on 04 / 30 / 2001 02 : 17 pm - - - - - - - - - - - - - - - - - - - - - - - - - - -\\npeter percell on 04 / 30 / 2001 11 : 16 : 58 am\\nto : vincent kaminski\\ncc :\\nsubject : follow - up on siam workshop\\ni enjoyed your presentation , and meeting you briefly afterwards , at the\\nsiam workshop last friday .\\ni have extensive experience as a technical leader in the design and\\ndevelopment of modeling and simulation software products , mostly\\nfor the oil and gas pipeline industry .\\ni am looking for a position that can utilize my software development and\\nmathematical skills . getting out of the narrow confines of the pipeline\\nsimulation industry would be a plus .\\nplease consider whether i might fit in your group . your answer to a\\nquestion indicated that i have several of the skills you look for .\\nalso , please let me know , by email , the names and contact information of\\nother managers within enron who might benefit from having someone with\\nmy qualifications in their group .\\nattached are my resume and an addendum covering academic & consulting\\nexperience . publications are available on request .\\ni will call you in a couple of days to follow up on this email .\\nthank you for your time .\\npeter percell 10030 doliver drive\\npercell @ swbell . net houston , tx 77042 - 2016\\n( 713 ) 532 - 3836 voice & fax\\n- percell , peter resume only . doc\\n- percell , peter a & c exp . doc',\n",
              " 0)"
            ]
          },
          "execution_count": 39,
          "metadata": {},
          "output_type": "execute_result"
        }
      ],
      "source": [
        "X_test.loc[9206],y_test[9206]"
      ]
    },
    {
      "cell_type": "code",
      "execution_count": 38,
      "id": "IEKe2NMhoNfK",
      "metadata": {
        "colab": {
          "base_uri": "https://localhost:8080/"
        },
        "id": "IEKe2NMhoNfK",
        "outputId": "a9cd2139-2ead-48bf-d008-d91f838c6530"
      },
      "outputs": [
        {
          "data": {
            "text/plain": [
              "20621    want software p $ programs\\nmicrosoft money 20...\n",
              "9206     i am forwarding for your attention the resume ...\n",
              "16777    summer is quickly drawing to a close for our s...\n",
              "4105     your needed soffttwares at rock bottom prri ce...\n",
              "23379    greetings ut team !\\ncongratulations on a succ...\n",
              "                               ...                        \n",
              "20955    dbsj will perform gangbusters .\\nalmost identi...\n",
              "31030    borrow in desperado is angola of latin\\nraul y...\n",
              "26131    investor alert !\\nif a group of\\ninvestors wou...\n",
              "2091     attached is the december 2000 nomination for o...\n",
              "2856     ( see attached file : hplno 327 . xls )\\n- hpl...\n",
              "Name: message, Length: 3335, dtype: object"
            ]
          },
          "execution_count": 38,
          "metadata": {},
          "output_type": "execute_result"
        }
      ],
      "source": [
        "X_test"
      ]
    },
    {
      "cell_type": "code",
      "execution_count": 40,
      "id": "guDqOiiMnpiy",
      "metadata": {
        "colab": {
          "base_uri": "https://localhost:8080/"
        },
        "id": "guDqOiiMnpiy",
        "outputId": "416c4263-ed06-4429-cfe7-9997507dd1a0"
      },
      "outputs": [
        {
          "name": "stdout",
          "output_type": "stream",
          "text": [
            "1/1 [==============================] - 0s 149ms/step\n"
          ]
        },
        {
          "data": {
            "text/plain": [
              "array([[0.04904289]], dtype=float32)"
            ]
          },
          "execution_count": 40,
          "metadata": {},
          "output_type": "execute_result"
        }
      ],
      "source": [
        "model.predict([X_test.loc[9206]])"
      ]
    },
    {
      "cell_type": "code",
      "execution_count": 23,
      "id": "72a81d99",
      "metadata": {
        "_kg_hide-output": true,
        "colab": {
          "base_uri": "https://localhost:8080/"
        },
        "execution": {
          "iopub.execute_input": "2024-01-28T18:17:54.007747Z",
          "iopub.status.busy": "2024-01-28T18:17:54.006980Z",
          "iopub.status.idle": "2024-01-28T18:17:54.014505Z",
          "shell.execute_reply": "2024-01-28T18:17:54.013661Z"
        },
        "id": "72a81d99",
        "outputId": "bb757bcc-d434-47e5-c79b-fd69363cf71f",
        "papermill": {
          "duration": 0.08154,
          "end_time": "2024-01-28T18:17:54.016602",
          "exception": false,
          "start_time": "2024-01-28T18:17:53.935062",
          "status": "completed"
        },
        "scrolled": true,
        "tags": []
      },
      "outputs": [
        {
          "data": {
            "text/plain": [
              "array([[1],\n",
              "       [0],\n",
              "       [0],\n",
              "       ...,\n",
              "       [1],\n",
              "       [0],\n",
              "       [0]])"
            ]
          },
          "execution_count": 23,
          "metadata": {},
          "output_type": "execute_result"
        }
      ],
      "source": [
        "y_pred"
      ]
    },
    {
      "cell_type": "code",
      "execution_count": 24,
      "id": "188c12c5",
      "metadata": {
        "colab": {
          "base_uri": "https://localhost:8080/"
        },
        "execution": {
          "iopub.execute_input": "2024-01-28T18:17:54.164093Z",
          "iopub.status.busy": "2024-01-28T18:17:54.163799Z",
          "iopub.status.idle": "2024-01-28T18:17:54.179037Z",
          "shell.execute_reply": "2024-01-28T18:17:54.177965Z"
        },
        "id": "188c12c5",
        "outputId": "64f08f7f-65ad-41c4-9336-ae7905110a3f",
        "papermill": {
          "duration": 0.091383,
          "end_time": "2024-01-28T18:17:54.181049",
          "exception": false,
          "start_time": "2024-01-28T18:17:54.089666",
          "status": "completed"
        },
        "tags": []
      },
      "outputs": [
        {
          "name": "stdout",
          "output_type": "stream",
          "text": [
            "Classification Report:\n",
            "               precision    recall  f1-score   support\n",
            "\n",
            "           0       0.93      0.94      0.94      1659\n",
            "           1       0.94      0.93      0.94      1676\n",
            "\n",
            "    accuracy                           0.94      3335\n",
            "   macro avg       0.94      0.94      0.94      3335\n",
            "weighted avg       0.94      0.94      0.94      3335\n",
            "\n"
          ]
        }
      ],
      "source": [
        "from sklearn.metrics import classification_report, confusion_matrix\n",
        "\n",
        "classification_rep = classification_report(y_test, y_pred)\n",
        "\n",
        "# Print the classification report\n",
        "print(\"Classification Report:\\n\", classification_rep)"
      ]
    },
    {
      "cell_type": "code",
      "execution_count": 25,
      "id": "87f07f59",
      "metadata": {
        "colab": {
          "base_uri": "https://localhost:8080/"
        },
        "execution": {
          "iopub.execute_input": "2024-01-28T18:17:54.330580Z",
          "iopub.status.busy": "2024-01-28T18:17:54.330293Z",
          "iopub.status.idle": "2024-01-28T18:17:54.338281Z",
          "shell.execute_reply": "2024-01-28T18:17:54.337120Z"
        },
        "id": "87f07f59",
        "outputId": "ad3f5104-1bf0-49c0-a7b5-f90807aa36b7",
        "papermill": {
          "duration": 0.085614,
          "end_time": "2024-01-28T18:17:54.340202",
          "exception": false,
          "start_time": "2024-01-28T18:17:54.254588",
          "status": "completed"
        },
        "tags": []
      },
      "outputs": [
        {
          "name": "stdout",
          "output_type": "stream",
          "text": [
            "Confusion Matrix:\n",
            " [[1565   94]\n",
            " [ 118 1558]]\n"
          ]
        }
      ],
      "source": [
        "# Generate a confusion matrix\n",
        "conf_matrix = confusion_matrix(y_test, y_pred)\n",
        "\n",
        "# Print the confusion matrix\n",
        "print(\"Confusion Matrix:\\n\", conf_matrix)"
      ]
    },
    {
      "cell_type": "code",
      "execution_count": 26,
      "id": "e847bb98",
      "metadata": {
        "colab": {
          "base_uri": "https://localhost:8080/",
          "height": 872
        },
        "execution": {
          "iopub.execute_input": "2024-01-28T18:17:54.483396Z",
          "iopub.status.busy": "2024-01-28T18:17:54.482585Z",
          "iopub.status.idle": "2024-01-28T18:17:55.089243Z",
          "shell.execute_reply": "2024-01-28T18:17:55.088381Z"
        },
        "id": "e847bb98",
        "outputId": "f16edb57-2b7f-4097-d480-d49667c508e4",
        "papermill": {
          "duration": 0.680125,
          "end_time": "2024-01-28T18:17:55.091359",
          "exception": false,
          "start_time": "2024-01-28T18:17:54.411234",
          "status": "completed"
        },
        "tags": []
      },
      "outputs": [
        {
          "data": {
            "image/png": "[encoded data removed]",
            "text/plain": [
              "<Figure size 1000x1000 with 2 Axes>"
            ]
          },
          "metadata": {},
          "output_type": "display_data"
        }
      ],
      "source": [
        "import seaborn as sns\n",
        "import matplotlib.pyplot as plt\n",
        "\n",
        "# Create a heatmap for the confusion matrix\n",
        "plt.figure(figsize=(10,10))\n",
        "sns.heatmap(conf_matrix, annot=True, fmt='d')\n",
        "plt.xlabel('Predicted Labels')\n",
        "plt.ylabel('True Labels')\n",
        "plt.title('Confusion Matrix')\n",
        "plt.show()\n"
      ]
    },
    {
      "cell_type": "code",
      "execution_count": 27,
      "id": "Us4a6KbHgba_",
      "metadata": {
        "id": "Us4a6KbHgba_"
      },
      "outputs": [],
      "source": [
        "model.save(\"spamhambert.keras\")"
      ]
    }
  ],
  "metadata": {
    "accelerator": "GPU",
    "colab": {
      "gpuType": "T4",
      "provenance": []
    },
    "kaggle": {
      "accelerator": "nvidiaTeslaT4",
      "dataSources": [
        {
          "databundleVersionId": 3285917,
          "datasetId": 1961542,
          "sourceId": 3235802,
          "sourceType": "datasetVersion"
        },
        {
          "databundleVersionId": 4932971,
          "modelInstanceId": 2180,
          "sourceId": 2938,
          "sourceType": "modelInstanceVersion"
        },
        {
          "databundleVersionId": 4910135,
          "modelInstanceId": 1882,
          "sourceId": 2580,
          "sourceType": "modelInstanceVersion"
        },
        {
          "databundleVersionId": 4910131,
          "modelInstanceId": 1882,
          "sourceId": 2579,
          "sourceType": "modelInstanceVersion"
        }
      ],
      "dockerImageVersionId": 30636,
      "isGpuEnabled": true,
      "isInternetEnabled": true,
      "language": "python",
      "sourceType": "notebook"
    },
    "kernelspec": {
      "display_name": "Python 3",
      "name": "python3"
    },
    "language_info": {
      "codemirror_mode": {
        "name": "ipython",
        "version": 3
      },
      "file_extension": ".py",
      "mimetype": "text/x-python",
      "name": "python",
      "nbconvert_exporter": "python",
      "pygments_lexer": "ipython3",
      "version": "3.10.13"
    },
    "papermill": {
      "default_parameters": {},
      "duration": 334.815443,
      "end_time": "2024-01-28T18:17:58.133012",
      "environment_variables": {},
      "exception": null,
      "input_path": "__notebook__.ipynb",
      "output_path": "__notebook__.ipynb",
      "parameters": {},
      "start_time": "2024-01-28T18:12:23.317569",
      "version": "2.4.0"
    }
  },
  "nbformat": 4,
  "nbformat_minor": 5
}
